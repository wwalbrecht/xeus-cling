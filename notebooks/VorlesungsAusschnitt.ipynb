{
 "cells": [
  {
   "cell_type": "markdown",
   "id": "b9921fef-0243-45c6-9c3e-247389b3f265",
   "metadata": {
    "tags": []
   },
   "source": [
    "# 1.) Datentypen\n",
    "\n",
    "## **-typedef**"
   ]
  },
  {
   "cell_type": "markdown",
   "id": "221f1cfa-d555-4247-ba7b-fcf97956a22f",
   "metadata": {
    "tags": []
   },
   "source": [
    "## **eigene Typ Definitionen**\n",
    "\n",
    "### **selbst einen Typnamen definieren:**\n",
    "\n",
    "#### typedef existing_type new_type;\n",
    "\n",
    "## Beispiel:"
   ]
  },
  {
   "cell_type": "code",
   "execution_count": 6,
   "id": "a0db51f1-56d2-466f-9216-a901db789eb6",
   "metadata": {
    "tags": []
   },
   "outputs": [],
   "source": [
    "typedef signed long slong;"
   ]
  },
  {
   "cell_type": "markdown",
   "id": "b19564ec-2a00-4170-a416-7801e1389953",
   "metadata": {},
   "source": [
    "## Tip: In eigenen Typnamen die Bit-Anzahl explizit machen:"
   ]
  },
  {
   "cell_type": "code",
   "execution_count": 8,
   "id": "8f79e158-b428-40ae-8fe2-08628e90301a",
   "metadata": {},
   "outputs": [],
   "source": [
    "typedef int s16;\n",
    "typedef long s32;\n",
    "s16 x=99;\n",
    "s16 myvalue_s16;"
   ]
  },
  {
   "cell_type": "markdown",
   "id": "f3a065ff-9973-4275-9978-33115c424b22",
   "metadata": {
    "jp-MarkdownHeadingCollapsed": true,
    "tags": []
   },
   "source": [
    " ### Bemerkung: \n",
    "     <cstdint> int16_t ...\n",
    "    (printf==> extra Aufwand)  \n",
    "    "
   ]
  },
  {
   "cell_type": "markdown",
   "id": "aaf5142b-0373-4d3c-938d-33bfc872e628",
   "metadata": {},
   "source": [
    "\n",
    "\n",
    "## **-bool**\n",
    "\n",
    "**C90: kein Datentyp `bool` aber es gibt in C und C++:**\n",
    "\n",
    "Zahl == 0 ==> `false`  \n",
    "Zahl != 0 ==> `true`"
   ]
  },
  {
   "cell_type": "code",
   "execution_count": null,
   "id": "fec4895d-f51b-424e-91a3-1bfae7389cb8",
   "metadata": {},
   "outputs": [],
   "source": [
    "int x=10;  \n",
    "while (x--){}"
   ]
  },
  {
   "cell_type": "markdown",
   "id": "09a5733a-a77b-412e-893f-c41294de5fed",
   "metadata": {},
   "source": [
    "Für Lesbarkeit oft eigenes:"
   ]
  },
  {
   "cell_type": "code",
   "execution_count": 11,
   "id": "b88b0cd1-cc9f-4244-981a-67f10299ef0b",
   "metadata": {
    "tags": []
   },
   "outputs": [],
   "source": [
    "#define FALSE (0)\n",
    "#define TRUE (1)"
   ]
  },
  {
   "cell_type": "markdown",
   "id": "6f77ba87-0188-4bac-a880-0ecfc7372088",
   "metadata": {},
   "source": [
    "### **Vorsicht:**\n",
    "**Zwischen den beiden Varianten nicht mischen!** \n",
    "\n",
    "C++_ build-in-type `bool` mit Werten `true` und `false`  \n",
    "\n",
    "`bool bedingungErfolg= false;`  \n",
    "`bedingungErfolg= (x>1234 && y<111 || z==0);`\n",
    "\n",
    "`if(bedinngungErfolg){//...}`"
   ]
  },
  {
   "cell_type": "markdown",
   "id": "f64e73e9-db94-4af8-b4a8-16c20ab0652e",
   "metadata": {
    "tags": []
   },
   "source": [
    "## **Beispiel mit `bool`:**"
   ]
  },
  {
   "cell_type": "code",
   "execution_count": null,
   "id": "ce8f0316-17ea-4e56-8faa-6103fd3139b1",
   "metadata": {
    "tags": []
   },
   "outputs": [],
   "source": [
    "bool nummer=7, zahl=0;\n",
    "bool wort=true, word=false;\n",
    "    \n",
    "cout<<nummer<<endl; //Ausgabe 1\n",
    "cout<<zahl<<endl; //Ausgabe 0\n",
    "cout<<wort<<endl; //Ausgabe 1\n",
    "cout<<word<<endl; //Ausgabe 0\n",
    "    "
   ]
  }
 ],
 "metadata": {
  "kernelspec": {
   "display_name": "C++11",
   "language": "C++11",
   "name": "xcpp11"
  },
  "language_info": {
   "codemirror_mode": "text/x-c++src",
   "file_extension": ".cpp",
   "mimetype": "text/x-c++src",
   "name": "c++",
   "version": "11"
  }
 },
 "nbformat": 4,
 "nbformat_minor": 5
}
